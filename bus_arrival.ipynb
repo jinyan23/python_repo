{
 "cells": [
  {
   "attachments": {},
   "cell_type": "markdown",
   "metadata": {},
   "source": [
    "Previously deployed this on ShinyApp, now trying it with Python Dash. Deploy on localhost after downloading.\n",
    "\n",
    "Features to include:\n",
    "1. User input bus servive\n",
    "2. User input Bus stop ID\n",
    "3. Bus Arrival Tab (Table showing specific bus arrival at queried bus stop)\n",
    "4. Bus Arrival Table (Table showing all bus arrivals at queried bus stop)\n",
    "5. Bus Route Tab (Map showing bus route)"
   ]
  },
  {
   "cell_type": "code",
   "execution_count": 79,
   "metadata": {},
   "outputs": [],
   "source": [
    "import json\n",
    "import urllib\n",
    "import httplib2 as http \n",
    "from urllib.parse import urlparse\n",
    "import os\n",
    "import pandas as pd\n",
    "\n",
    "from datetime import datetime"
   ]
  },
  {
   "cell_type": "code",
   "execution_count": 2,
   "metadata": {},
   "outputs": [],
   "source": [
    "# Read in Token\n",
    "with open(\"../python_repo_doc/bus_arrival_doc/LTA_AccountKey\") as k:\n",
    "    key = k.readlines()"
   ]
  },
  {
   "cell_type": "code",
   "execution_count": null,
   "metadata": {},
   "outputs": [],
   "source": [
    "# LTA Datamall API\n",
    "headers = {\"AccountKey\": key[0],\n",
    "           \"accept\": \"application/json\"}\n",
    "\n",
    "uri = \"http://datamall2.mytransport.sg/\"\n",
    "\n",
    "# Change path there to change retrieval\n",
    "method = \"GET\"\n",
    "body = \"\"\n",
    "h = http.Http()"
   ]
  },
  {
   "cell_type": "code",
   "execution_count": 217,
   "metadata": {},
   "outputs": [],
   "source": [
    "# Define function to retrieve bus arrivals from LTA Datamall\n",
    "def get_arrivals(bus_stop_code):\n",
    "    \n",
    "    path = \"ltaodataservice/BusArrivalv2?BusStopCode=\" + str(bus_stop_code)\n",
    "\n",
    "    target = urlparse(uri + path)  \n",
    "    \n",
    "    reponse, content = h.request(\n",
    "        target.geturl(),\n",
    "        method,\n",
    "        body,\n",
    "        headers\n",
    "    )\n",
    "\n",
    "    jsonObj = json.loads(content)\n",
    "    \n",
    "    return jsonObj"
   ]
  },
  {
   "cell_type": "code",
   "execution_count": 219,
   "metadata": {},
   "outputs": [
    {
     "name": "stdout",
     "output_type": "stream",
     "text": [
      "After Conversion:\n",
      "    Service Number Next Bus  Next Bus 2 Next Bus 3\n",
      "0              12        5          18           \n",
      "1             12e       12          42           \n",
      "2             143        5          16         26\n",
      "3             197      Arr          11         26\n",
      "4               2                   14         26\n",
      "5              33        6          27         42\n",
      "6              61        5          14         27\n",
      "7              63        4          18         38\n",
      "8              80        5          17         33\n",
      "9             961        5          18         30\n",
      "10            970        6          19         36\n"
     ]
    }
   ],
   "source": [
    "# Get bus arrival timings from specific bus stop code.\n",
    "jsonObj = get_arrivals(bus_stop_code = \"05013\")\n",
    "\n",
    "# Filter out bus arrivals from JSON object.\n",
    "service_num = [bus[\"ServiceNo\"] for bus in jsonObj[\"Services\"]]\n",
    "service_num_1 = [bus[\"NextBus\"][\"EstimatedArrival\"] for bus in jsonObj[\"Services\"]]\n",
    "service_num_2 = [bus[\"NextBus2\"][\"EstimatedArrival\"] for bus in jsonObj[\"Services\"]]\n",
    "service_num_3 = [bus[\"NextBus3\"][\"EstimatedArrival\"] for bus in jsonObj[\"Services\"]]\n",
    "\n",
    "bus_list = pd.DataFrame({\"Service Number\": service_num,\n",
    "                         \"Next Bus\": service_num_1,\n",
    "                         \"Next Bus 2\": service_num_2,\n",
    "                         \"Next Bus 3\": service_num_3})\n",
    "\n",
    "# Define function to convert str time to datetime time.\n",
    "def convert_time(t):\n",
    "    \n",
    "    try:\n",
    "        dt_t = datetime.strptime(t[:-6], \"%Y-%m-%dT%H:%M:%S\")\n",
    "        \n",
    "        if dt_t > datetime.now():\n",
    "            td = dt_t - datetime.now()\n",
    "            \n",
    "            if td.seconds < 60:\n",
    "                return \"Arr\"\n",
    "            else:\n",
    "                return round(td.seconds/60)\n",
    "        else:\n",
    "            return \"\"\n",
    "    \n",
    "    except:\n",
    "        return \"\"\n",
    "\n",
    "bus_list[\"Next Bus\"] = bus_list[\"Next Bus\"].apply(convert_time)\n",
    "bus_list[\"Next Bus 2\"] = bus_list[\"Next Bus 2\"].apply(convert_time)\n",
    "bus_list[\"Next Bus 3\"] = bus_list[\"Next Bus 3\"].apply(convert_time)\n",
    "\n",
    "# Print out data frame coming bus arrival timings in minutes\n",
    "print(\"After Conversion:\\n\", bus_list.sort_values(by=\"Service Number\"))"
   ]
  }
 ],
 "metadata": {
  "kernelspec": {
   "display_name": "venv",
   "language": "python",
   "name": "python3"
  },
  "language_info": {
   "codemirror_mode": {
    "name": "ipython",
    "version": 3
   },
   "file_extension": ".py",
   "mimetype": "text/x-python",
   "name": "python",
   "nbconvert_exporter": "python",
   "pygments_lexer": "ipython3",
   "version": "3.10.7"
  },
  "orig_nbformat": 4,
  "vscode": {
   "interpreter": {
    "hash": "fd11f3380fa70e3455920893a60e5b10d61731084a1d9c89e6b3d2bda2e7bc1f"
   }
  }
 },
 "nbformat": 4,
 "nbformat_minor": 2
}
