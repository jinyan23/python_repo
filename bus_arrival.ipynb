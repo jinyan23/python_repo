{
 "cells": [
  {
   "cell_type": "code",
   "execution_count": 16,
   "metadata": {},
   "outputs": [],
   "source": [
    "import json\n",
    "import urllib\n",
    "import httplib2 as http "
   ]
  },
  {
   "cell_type": "code",
   "execution_count": 26,
   "metadata": {},
   "outputs": [],
   "source": [
    "link = \"http://datamall2.mytransport.sg/ltaodataservice/BusArrivalv2?BusStopCode=83139\"\n",
    "\n",
    "headers = {\"AccountKey\": \"\",                # LTA Datamall API Key\n",
    "           \"accept\": \"application/json\"}\n",
    "\n",
    "target = urllib.parse.urlparse(link)\n",
    "method = \"GET\"\n",
    "body = \"\"\n",
    "\n",
    "h = http.Http()\n",
    "\n",
    "response, content = h.request(\n",
    "    target.geturl(),\n",
    "    method,\n",
    "    body,\n",
    "    headers\n",
    ")\n",
    "\n",
    "#jsonObj = json.loads(content)\n",
    "#print(json.dumps(jsonObj, sort_keys=True, indent=3))\n"
   ]
  }
 ],
 "metadata": {
  "kernelspec": {
   "display_name": "Python 3.10.7 ('.venv': venv)",
   "language": "python",
   "name": "python3"
  },
  "language_info": {
   "codemirror_mode": {
    "name": "ipython",
    "version": 3
   },
   "file_extension": ".py",
   "mimetype": "text/x-python",
   "name": "python",
   "nbconvert_exporter": "python",
   "pygments_lexer": "ipython3",
   "version": "3.10.7"
  },
  "orig_nbformat": 4,
  "vscode": {
   "interpreter": {
    "hash": "9320a2684de94751cac1f41ebf88fb34ebc827380a96a2879ae946a50ac631eb"
   }
  }
 },
 "nbformat": 4,
 "nbformat_minor": 2
}
