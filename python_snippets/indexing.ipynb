{
 "cells": [
  {
   "cell_type": "code",
   "execution_count": 2,
   "metadata": {},
   "outputs": [],
   "source": [
    "import pandas as pd\n",
    "import numpy as np\n",
    "import seaborn as sns"
   ]
  },
  {
   "cell_type": "code",
   "execution_count": 3,
   "metadata": {},
   "outputs": [],
   "source": [
    "penguins = (sns.load_dataset(\"penguins\")\n",
    "               .sample(100)\n",
    "               .reset_index())\n",
    "penguins.loc[:, \"new_col\"] = np.random.normal(loc=42,\n",
    "                                              scale=7,\n",
    "                                              size=100)"
   ]
  },
  {
   "attachments": {},
   "cell_type": "markdown",
   "metadata": {},
   "source": [
    "Ways to filter from data frame:\n",
    "1. by single categorical data with `==` sign\n",
    "2. by multiple categorical data with `isin()`\n",
    "3. by multiple categorical data with `df.query()`\n",
    "4. by single numerical data with `>` or `<`\n",
    "5. by multiple numerical data with `np.select()`\n",
    "6. by multiple numerical conditional `>` or `<`\n",
    "7. by multiple numerical data with `df.query()`\n",
    "8. by exclusion with `~` and `!=`\n",
    "\n",
    "Indexing with `.iloc` and `.loc`:\n",
    "1. `df.iloc[positional_num, positional_num]`\n",
    "2. `df.loc[index, column]`\n",
    "\n",
    "More info: https://stackoverflow.com/questions/17071871/how-do-i-select-rows-from-a-dataframe-based-on-column-values"
   ]
  },
  {
   "cell_type": "code",
   "execution_count": null,
   "metadata": {},
   "outputs": [],
   "source": [
    "# single categorical data with == sign\n",
    "def run_func():\n",
    "    mask3 = penguins[\"species\"] == \"Chinstrap\"\n",
    "    return penguins[mask3]\n",
    "\n",
    "run_func()\n",
    "\n",
    "# penguins[penguins[\"species\"] == \"Chinstrap\"]"
   ]
  },
  {
   "cell_type": "code",
   "execution_count": null,
   "metadata": {},
   "outputs": [],
   "source": [
    "# by multiple categorical conditions using isin()\n",
    "conditions = {\"species\": [\"Adelie\", \"Chinstrap\"],\n",
    "              \"island\": [\"Dream\"]}\n",
    "(penguins[penguins.loc[:, [\"species\", \"island\"]]\n",
    "                  .isin(conditions)\n",
    "                  .all(1)])"
   ]
  },
  {
   "cell_type": "code",
   "execution_count": null,
   "metadata": {},
   "outputs": [],
   "source": [
    "# multiple categorical conditions with df.query()\n",
    "penguins.query(\"island == 'Dream' and species == 'Adelie'\")"
   ]
  },
  {
   "cell_type": "code",
   "execution_count": null,
   "metadata": {},
   "outputs": [],
   "source": [
    "# create new column by multiple conditions using np.select()\n",
    "conditions = [\n",
    "    (penguins[\"bill_length_mm\"] < 45) & (penguins[\"flipper_length_mm\"] < 200),\n",
    "    (penguins[\"bill_length_mm\"] > 45) & (penguins[\"flipper_length_mm\"] < 200)\n",
    "]\n",
    "choices = [\"group1\", \"group2\"]\n",
    "penguins.loc[:, \"grouping\"] = np.select(conditions, choices, default=\"group3\")\n"
   ]
  },
  {
   "cell_type": "code",
   "execution_count": null,
   "metadata": {},
   "outputs": [],
   "source": [
    "# by multiple numerical conditions with &\n",
    "penguins[(penguins[\"bill_length_mm\"] < 45) & (penguins[\"flipper_length_mm\"] > 200)]"
   ]
  },
  {
   "cell_type": "code",
   "execution_count": null,
   "metadata": {},
   "outputs": [],
   "source": [
    "# by querying columnn\n",
    "penguins.query(\"bill_length_mm > new_col\")\n",
    "penguins.query(\"bill_length_mm > 50 and bill_depth_mm > 19\")"
   ]
  },
  {
   "cell_type": "code",
   "execution_count": null,
   "metadata": {},
   "outputs": [],
   "source": [
    "# by exclusions \n",
    "penguins[~penguins[\"species\"].isin([\"Adelie\", \"Chinstrap\"])]                # ~\n",
    "penguins[(penguins[\"species\"] != \"Adelie\") & (penguins[\"sex\"] != \"Male\")]   # !=\n"
   ]
  },
  {
   "cell_type": "code",
   "execution_count": null,
   "metadata": {},
   "outputs": [],
   "source": []
  }
 ],
 "metadata": {
  "kernelspec": {
   "display_name": "venv",
   "language": "python",
   "name": "python3"
  },
  "language_info": {
   "codemirror_mode": {
    "name": "ipython",
    "version": 3
   },
   "file_extension": ".py",
   "mimetype": "text/x-python",
   "name": "python",
   "nbconvert_exporter": "python",
   "pygments_lexer": "ipython3",
   "version": "3.10.7"
  },
  "orig_nbformat": 4,
  "vscode": {
   "interpreter": {
    "hash": "e5892030bfe97ad8f51fa969f617daa0837a0582626086e3c317af7b5723fcca"
   }
  }
 },
 "nbformat": 4,
 "nbformat_minor": 2
}
