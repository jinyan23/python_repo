{
 "cells": [
  {
   "attachments": {},
   "cell_type": "markdown",
   "metadata": {},
   "source": [
    "The key idea here is that whenever you're trying to create running variables (var_1, var_2, var_3...) iteratively, you're generating data. When this happens, create a new dimension for the data."
   ]
  },
  {
   "cell_type": "code",
   "execution_count": 82,
   "metadata": {},
   "outputs": [],
   "source": [
    "import random"
   ]
  },
  {
   "cell_type": "code",
   "execution_count": null,
   "metadata": {},
   "outputs": [],
   "source": [
    "# suppose I want to instantiate 3 objects of class student, each with a different variable name\n",
    "class student():\n",
    "    \n",
    "    def __init__(self, age):\n",
    "        self.age = age\n",
    "\n",
    "student_one = student(17)\n",
    "student_two = student(16)\n",
    "student_three = student(15)"
   ]
  },
  {
   "cell_type": "code",
   "execution_count": null,
   "metadata": {},
   "outputs": [],
   "source": [
    "# now if I want to instantiate 10 objects of class student, each with a different variable name\n",
    "\n",
    "# basically, don't do this\n",
    "student_dict_one = {\"student_\"+str(i): student(random.randint(13, 16)) for i in range(1,11)}\n",
    "\n",
    "student_dict_one[\"student_1\"].age"
   ]
  },
  {
   "cell_type": "code",
   "execution_count": null,
   "metadata": {},
   "outputs": [],
   "source": [
    "# do this instead\n",
    "student_dict_two = {i: student(random.randint(13, 16)) for i in range(1,11)}\n",
    "\n",
    "# then index to them\n",
    "student_dict_two[5].age"
   ]
  },
  {
   "attachments": {},
   "cell_type": "markdown",
   "metadata": {},
   "source": [
    "Another example, sorting the words from a paragraph based on the first letter of the word."
   ]
  },
  {
   "cell_type": "code",
   "execution_count": 4,
   "metadata": {},
   "outputs": [],
   "source": [
    "# first paragraph of Animal Farm by George Orwell\n",
    "para = \"Mr Jones, of the Manor Farm, had locked the hen-houses for the night, but was too drunk to remember to shut the pop-holes. With the ring of light from his lantern dancing from side to side, he lurched across the yard, kicking off his boots at the back door, drew himself a last glass of beer from the barrel in the scullery, and made his way up to bed, where Mrs Jones was already snoring.\""
   ]
  },
  {
   "cell_type": "code",
   "execution_count": 25,
   "metadata": {},
   "outputs": [],
   "source": [
    "# define function which only returns the alphabets of a word\n",
    "def letters(word):\n",
    "    return(\"\".join([letter for letter in word if letter.isalpha()]))\n",
    "\n",
    "word_list = [letters(word).lower() for word in para.split(\" \")]"
   ]
  },
  {
   "cell_type": "code",
   "execution_count": null,
   "metadata": {},
   "outputs": [],
   "source": [
    "# filtering all words that start with \"a\" and append into list \"a\"\n",
    "# this becomes very verbose very quickly\n",
    "a = []\n",
    "for word in word_list:\n",
    "    if word[0] == \"a\":\n",
    "        a.append(word)"
   ]
  },
  {
   "cell_type": "code",
   "execution_count": 55,
   "metadata": {},
   "outputs": [],
   "source": [
    "# two approaches to create dictionary\n",
    "\n",
    "# create an empty dict and iterate through the list to input values into dictionary\n",
    "word_dict = dict()\n",
    "for word in word_list:\n",
    "    word_dict[word[0]] = word\n",
    "\n",
    "# dictionary comprehension\n",
    "# dict_name = {key: value for value in iterable}\n",
    "word_dict = {word[0]: word for word in word_list}"
   ]
  },
  {
   "cell_type": "code",
   "execution_count": null,
   "metadata": {},
   "outputs": [],
   "source": [
    "# iterating through a dictionary will always return the keys\n",
    "[key for key in word_dict]\n",
    "\n",
    "# use dict.items to obtain the values too\n",
    "[(key, value) for key, value in word_dict.items()]\n",
    "[key+\"-\"+value for key, value in word_dict.items()]"
   ]
  }
 ],
 "metadata": {
  "kernelspec": {
   "display_name": "venv",
   "language": "python",
   "name": "python3"
  },
  "language_info": {
   "codemirror_mode": {
    "name": "ipython",
    "version": 3
   },
   "file_extension": ".py",
   "mimetype": "text/x-python",
   "name": "python",
   "nbconvert_exporter": "python",
   "pygments_lexer": "ipython3",
   "version": "3.10.7"
  },
  "orig_nbformat": 4,
  "vscode": {
   "interpreter": {
    "hash": "fd11f3380fa70e3455920893a60e5b10d61731084a1d9c89e6b3d2bda2e7bc1f"
   }
  }
 },
 "nbformat": 4,
 "nbformat_minor": 2
}
